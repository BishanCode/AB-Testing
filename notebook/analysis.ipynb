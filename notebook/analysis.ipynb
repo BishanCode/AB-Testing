{
 "cells": [
  {
   "cell_type": "markdown",
   "id": "f0d4f49a",
   "metadata": {},
   "source": [
    "Create your environment and enter \" pip install -r requirements.txt \""
   ]
  },
  {
   "cell_type": "code",
   "execution_count": null,
   "id": "a4a365bc",
   "metadata": {},
   "outputs": [],
   "source": [
    "# Import libraries\n",
    "import pandas as pd\n",
    "import numpy as np\n",
    "import statsmodels.api as sm\n",
    "from scipy import stats\n",
    "import matplotlib.pyplot as plt\n",
    "import seaborn as sns"
   ]
  },
  {
   "cell_type": "code",
   "execution_count": null,
   "id": "6106af3e",
   "metadata": {},
   "outputs": [],
   "source": [
    "# Load dataset\n",
    "\n",
    "AB_PATH = \"../data/ab_data.csv\"\n",
    "COUNTRIES_PATH = \"../data/countries.csv\"\n",
    "\n",
    "ab = pd.read_csv(AB_PATH)\n",
    "ab.head()\n",
    "\n",
    "countries = pd.read_csv(COUNTRIES_PATH)\n",
    "countries.head()\n",
    "\n",
    "# Merge datasets\n",
    "df = ab.merge(countries, how='left', on='user_id')\n",
    "df.columns = [c.strip().lower() for c in df.columns]\n",
    "display(df)\n"
   ]
  },
  {
   "cell_type": "code",
   "execution_count": null,
   "id": "2de357f6",
   "metadata": {},
   "outputs": [],
   "source": [
    "\n",
    "# Basic info\n",
    "print(f\"Original shape: {df.shape}\")\n",
    "print(f\"Columns: {list(df.columns)}\")\n",
    "\n",
    "# Check missing values\n",
    "print(\"\\nMissing values:\")\n",
    "print(df.isnull().sum())\n",
    "\n",
    "# Check duplicates\n",
    "print(f\"\\nDuplicate rows: {df.duplicated().sum()}\")\n",
    "\n",
    "# Check for duplicate user IDs (adjust column name as needed)\n",
    "user_col = 'user_id' \n",
    "if user_col in df.columns:\n",
    "    print(f\"Unique users: {df[user_col].nunique()}\")\n",
    "    print(f\"Total records: {len(df)}\")\n",
    "    duplicated_users = len(df) - df[user_col].nunique()\n",
    "    print(f\"Duplicate user records: {duplicated_users}\")\n",
    "\n",
    "# CLEANING STEPS\n",
    "\n",
    "# 1. Remove completely duplicate rows\n",
    "df = df.drop_duplicates()\n",
    "\n",
    "# 2. Handle missing values\n",
    "# Fill missing values with 0 for numeric columns\n",
    "numeric_cols = df.select_dtypes(include=[np.number]).columns\n",
    "df[numeric_cols] = df[numeric_cols].fillna(0)\n",
    "\n",
    "# Fill missing values with 'Unknown' for text columns\n",
    "text_cols = df.select_dtypes(include=['object']).columns\n",
    "df[text_cols] = df[text_cols].fillna('Unknown')\n",
    "\n",
    "# Final check\n",
    "print(f\"\\nAfter cleaning:\")\n",
    "print(f\"Shape: {df.shape}\")\n",
    "print(f\"Missing values: {df.isnull().sum().sum()}\")\n",
    "\n",
    "# Save cleaned data\n",
    "df.to_csv('../data/cleaned_data.csv', index=False)\n",
    "print(\"Saved as 'cleaned_data.csv'\")"
   ]
  },
  {
   "cell_type": "markdown",
   "id": "fa3fd76a",
   "metadata": {},
   "source": [
    "Data Validation\n",
    "\n",
    "1. Landing page consistency \n",
    "2. 50/50 Check\n",
    "3. Country Balance"
   ]
  },
  {
   "cell_type": "code",
   "execution_count": null,
   "id": "d8cb836c",
   "metadata": {},
   "outputs": [],
   "source": [
    "# 1. Landing page consistency\n",
    "df = pd.read_csv('../data/cleaned_data.csv')\n",
    "\n",
    "# Check consistency between group and landing_page\n",
    "control_check = df[df['group'] == 'control']['landing_page'].value_counts()\n",
    "treatment_check = df[df['group'] == 'treatment']['landing_page'].value_counts()\n",
    "\n",
    "print(\"Control group:\")\n",
    "print(control_check)\n",
    "print(\"\\nTreatment group:\")\n",
    "print(treatment_check)\n",
    "\n",
    "# Remove inconsistent records\n",
    "clean_df = df[~((df['group'] == 'control') & (df['landing_page'] == 'new_page') | \n",
    "               (df['group'] == 'treatment') & (df['landing_page'] == 'old_page'))]\n",
    "\n",
    "# Verify the cleaning worked\n",
    "print(\"\\nAfter cleaning:\")\n",
    "control_check_clean = clean_df[clean_df['group'] == 'control']['landing_page'].value_counts()\n",
    "treatment_check_clean = clean_df[clean_df['group'] == 'treatment']['landing_page'].value_counts()\n",
    "\n",
    "print(\"Control group:\")\n",
    "print(control_check_clean)\n",
    "print(\"\\nTreatment group:\")\n",
    "print(treatment_check_clean)\n",
    "\n",
    "# Save cleaned data\n",
    "df.to_csv('../data/cleaned_data.csv', index=False)\n",
    "print(\"\\nSaved as 'cleaned_data.csv'\")"
   ]
  },
  {
   "cell_type": "code",
   "execution_count": 19,
   "id": "64ab5ac6",
   "metadata": {},
   "outputs": [
    {
     "name": "stdout",
     "output_type": "stream",
     "text": [
      "Group allocation:\n",
      "group\n",
      "treatment    147278\n",
      "control      147202\n",
      "Name: count, dtype: int64\n",
      "\n",
      "Percentages:\n",
      "group\n",
      "treatment    50.012904\n",
      "control      49.987096\n",
      "Name: proportion, dtype: float64\n"
     ]
    }
   ],
   "source": [
    "# 2. 50/50 Check\n",
    "# Check group allocation ratio\n",
    "group_counts = df['group'].value_counts()\n",
    "group_percentages = df['group'].value_counts(normalize=True) * 100\n",
    "\n",
    "print(\"Group allocation:\")\n",
    "print(group_counts)\n",
    "print(f\"\\nPercentages:\")\n",
    "print(group_percentages)"
   ]
  },
  {
   "cell_type": "code",
   "execution_count": 21,
   "id": "883eb2bc",
   "metadata": {},
   "outputs": [
    {
     "name": "stdout",
     "output_type": "stream",
     "text": [
      "Country distribution across groups:\n",
      "group    control  treatment\n",
      "country                    \n",
      "CA          7302       7393\n",
      "UK         36841      36578\n",
      "US        103059     103307\n",
      "\n",
      "Country percentages by group:\n",
      "group    control  treatment\n",
      "country                    \n",
      "CA         49.69      50.31\n",
      "UK         50.18      49.82\n",
      "US         49.94      50.06\n",
      "\n",
      "Chi-square test for country balance:\n",
      "Chi2: 1.7841, p-value: 0.4098\n",
      "✓ Countries are balanced across groups\n"
     ]
    },
    {
     "data": {
      "image/png": "[encoded data removed]",
      "text/plain": [
       "<Figure size 1200x500 with 2 Axes>"
      ]
     },
     "metadata": {},
     "output_type": "display_data"
    }
   ],
   "source": [
    "# 3. Country Balance\n",
    "# Create contingency table for country vs group\n",
    "country_crosstab = pd.crosstab(df['country'], df['group'])\n",
    "print(\"Country distribution across groups:\")\n",
    "print(country_crosstab)\n",
    "\n",
    "# Calculate percentages\n",
    "country_percentages = pd.crosstab(df['country'], df['group'], normalize='index') * 100\n",
    "print(\"\\nCountry percentages by group:\")\n",
    "print(country_percentages.round(2))\n",
    "\n",
    "# Chi-square test for country balance\n",
    "chi2_country, p_country, dof, expected = stats.chi2_contingency(country_crosstab)\n",
    "print(f\"\\nChi-square test for country balance:\")\n",
    "print(f\"Chi2: {chi2_country:.4f}, p-value: {p_country:.4f}\")\n",
    "\n",
    "if p_country > 0.05:\n",
    "    print(\"✓ Countries are balanced across groups\")\n",
    "else:\n",
    "    print(\"⚠ Countries may not be balanced across groups\")\n",
    "    \n",
    "# Visualise country distribution\n",
    "fig, ax = plt.subplots(1, 2, figsize=(12, 5))\n",
    "country_crosstab.plot(kind='bar', ax=ax[0])\n",
    "ax[0].set_title('Country Distribution by Group')\n",
    "ax[0].tick_params(axis='x', rotation=45)\n",
    "\n",
    "country_percentages.plot(kind='bar', ax=ax[1])\n",
    "ax[1].set_title('Country Percentage by Group')\n",
    "ax[1].tick_params(axis='x', rotation=45)\n",
    "plt.tight_layout()\n",
    "plt.show()"
   ]
  }
 ],
 "metadata": {
  "kernelspec": {
   "display_name": "Python 3",
   "language": "python",
   "name": "python3"
  },
  "language_info": {
   "codemirror_mode": {
    "name": "ipython",
    "version": 3
   },
   "file_extension": ".py",
   "mimetype": "text/x-python",
   "name": "python",
   "nbconvert_exporter": "python",
   "pygments_lexer": "ipython3",
   "version": "3.11.7"
  }
 },
 "nbformat": 4,
 "nbformat_minor": 5
}
