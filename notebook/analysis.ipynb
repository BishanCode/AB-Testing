{
 "cells": [
  {
   "cell_type": "markdown",
   "id": "f0d4f49a",
   "metadata": {},
   "source": [
    "Create your environment and enter \" pip install -r requirements.txt \""
   ]
  },
  {
   "cell_type": "code",
   "execution_count": null,
   "id": "a4a365bc",
   "metadata": {},
   "outputs": [],
   "source": [
    "# Import libraries\n",
    "import pandas as pd\n",
    "import numpy as np\n",
    "import statsmodels.api as sm\n",
    "from scipy import stats\n",
    "import matplotlib.pyplot as plt\n",
    "import seaborn as sns"
   ]
  }
 ],
 "metadata": {
  "kernelspec": {
   "display_name": "Python 3",
   "language": "python",
   "name": "python3"
  },
  "language_info": {
   "name": "python",
   "version": "3.11.7"
  }
 },
 "nbformat": 4,
 "nbformat_minor": 5
}
